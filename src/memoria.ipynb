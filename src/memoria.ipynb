{
 "cells": [
  {
   "cell_type": "markdown",
   "metadata": {},
   "source": []
  },
  {
   "cell_type": "markdown",
   "metadata": {},
   "source": [
    "#### Proyecto EDA - Analisis Jugadores RFEF 2023-2024"
   ]
  },
  {
   "cell_type": "markdown",
   "metadata": {},
   "source": [
    "En este proyecto se busca analizar distintos aspectos con respecto  a los jugadores de futbol pertenecientes a la liga RFEF, de la temporada 2023-2024, teniendo en cuenta todas las competiciones. \n",
    "\n",
    "En primer lugar, convierto la base de datos a un DataFrame de pandas para poder observarlo detenidamente y a medida que vaya teniendo informacion que puede ser util a lo largo del analisis, utilizarla y en caso de que no sea util descartarla. "
   ]
  },
  {
   "cell_type": "markdown",
   "metadata": {},
   "source": [
    "Antes de comenzar, importamos las librerias que me pueden ser utiles para el analisis. "
   ]
  },
  {
   "cell_type": "code",
   "execution_count": 4,
   "metadata": {},
   "outputs": [],
   "source": [
    "import pandas as pd\n",
    "import seaborn as sns\n",
    "\n",
    "from utils import plot_categorical_relationship_fin, pinta_distribucion_categoricas, plot_grouped_histograms,\\\n",
    "    plot_grouped_boxplots, plot_combined_graphs, plot_categorical_numerical_relationship, bubble_plot,\\\n",
    "        grafico_dispersion_con_correlacion\n",
    "from scipy.stats import chi2_contingency, mannwhitneyu\n",
    "\n",
    "import warnings\n",
    "warnings.filterwarnings(\"ignore\")"
   ]
  },
  {
   "cell_type": "markdown",
   "metadata": {},
   "source": [
    "Ahora si, creo un Data Frame de la base de datos que tengo con formato .csv"
   ]
  },
  {
   "cell_type": "code",
   "execution_count": 5,
   "metadata": {},
   "outputs": [],
   "source": [
    "df_jugadores = pd.read_csv(\"./data/jugadores.csv\")"
   ]
  },
  {
   "cell_type": "code",
   "execution_count": null,
   "metadata": {},
   "outputs": [],
   "source": []
  },
  {
   "cell_type": "markdown",
   "metadata": {},
   "source": []
  },
  {
   "cell_type": "code",
   "execution_count": 11,
   "metadata": {},
   "outputs": [
    {
     "name": "stdout",
     "output_type": "stream",
     "text": [
      "<class 'pandas.core.frame.DataFrame'>\n",
      "RangeIndex: 10107 entries, 0 to 10106\n",
      "Data columns (total 12 columns):\n",
      " #   Column            Non-Null Count  Dtype  \n",
      "---  ------            --------------  -----  \n",
      " 0   id                10107 non-null  int64  \n",
      " 1   nombre            10107 non-null  object \n",
      " 2   partidos_jugados  10107 non-null  int64  \n",
      " 3   partidos_titular  10107 non-null  int64  \n",
      " 4   goles             10107 non-null  int64  \n",
      " 5   asistencias       10107 non-null  int64  \n",
      " 6   tarjeta_amarilla  10107 non-null  int64  \n",
      " 7   edad              10107 non-null  int64  \n",
      " 8   altura            10107 non-null  float64\n",
      " 9   valor             10107 non-null  float64\n",
      " 10  rating            10107 non-null  int64  \n",
      " 11  posicion          10107 non-null  object \n",
      "dtypes: float64(2), int64(8), object(2)\n",
      "memory usage: 947.7+ KB\n"
     ]
    }
   ],
   "source": [
    "df_jugadores.info()"
   ]
  },
  {
   "cell_type": "markdown",
   "metadata": {},
   "source": [
    "A simple vista haciendo un analisis de la informacion que nos brinda este DataSet: \n",
    "* Limpio de valores **nulos**. \n",
    "* La mayoria de las columnas son valores INT."
   ]
  },
  {
   "cell_type": "markdown",
   "metadata": {},
   "source": [
    "Se hace un analisis Univariante, recorriendo cada variable/columna del DataSet y se indica cual es el significado de la columna para luego definir cuales son categoricas y numericas"
   ]
  },
  {
   "cell_type": "markdown",
   "metadata": {},
   "source": [
    "\n",
    "| Columna/Variable | Descripción |\n",
    "| ---------------- | ----------- |\n",
    "| id         | Es un indicador unico para los distintos jugadores (int)|\n",
    "| Nombre          | Nombre del jugador (string)|\n",
    "| partidos_jugados   | Cantidad de partidos jugados en la temporada 2023 - 2024 (int)|\n",
    "| partidos_titular            | Cantidad de partidos que el jugador entro de titular (int) |\n",
    "| goles         | Cantidad de goles que ha marcado en la temporada (int)|\n",
    "| asistencias      | Número de padres/hijos a bordo (int)|\n",
    "| tarjeta_amarilla           | Tarifa pagada por el pasajero (int)|\n",
    "| edad        | Edad del jugador (int)|\n",
    "| altura         | Altura del jugador (float)|\n",
    "| valor            | En Euros, cuanto vale el jugador (float)|\n",
    "| rating     | Puntaje medio del jugador en la temporada (int)|\n",
    "| posicion          | Posicion del jugador (string)|\n"
   ]
  },
  {
   "cell_type": "code",
   "execution_count": null,
   "metadata": {},
   "outputs": [],
   "source": []
  }
 ],
 "metadata": {
  "kernelspec": {
   "display_name": "Python 3",
   "language": "python",
   "name": "python3"
  },
  "language_info": {
   "codemirror_mode": {
    "name": "ipython",
    "version": 3
   },
   "file_extension": ".py",
   "mimetype": "text/x-python",
   "name": "python",
   "nbconvert_exporter": "python",
   "pygments_lexer": "ipython3",
   "version": "3.12.0"
  }
 },
 "nbformat": 4,
 "nbformat_minor": 2
}
